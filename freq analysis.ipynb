{
 "cells": [
  {
   "cell_type": "code",
   "execution_count": 11,
   "metadata": {
    "collapsed": true
   },
   "outputs": [],
   "source": [
    "import string"
   ]
  },
  {
   "cell_type": "code",
   "execution_count": 14,
   "metadata": {},
   "outputs": [
    {
     "name": "stdout",
     "output_type": "stream",
     "text": [
      "{'A': 3333, 'B': 611, 'C': 899, 'D': 2016, 'E': 5038, 'F': 921, 'G': 901, 'H': 2900, 'I': 2534, 'J': 42, 'K': 380, 'L': 1690, 'M': 1117, 'N': 2765, 'O': 3052, 'P': 549, 'Q': 87, 'R': 2398, 'S': 2607, 'T': 3758, 'U': 995, 'V': 277, 'W': 1009, 'X': 42, 'Y': 802, 'Z': 11}\n"
     ]
    }
   ],
   "source": [
    "with open('men_of_iron.txt', encoding='utf-8') as book:\n",
    "    #print(book.read()[:1000])\n",
    "    for i, line in enumerate(book):\n",
    "        if line.startswith('*** START OF THIS PROJECT'):\n",
    "            break\n",
    "            \n",
    "    #set up letter counter v   \n",
    "    letter_frequencies = {}\n",
    "    for letter in string.ascii_uppercase:\n",
    "        letter_frequencies[letter] = 0\n",
    "            \n",
    "          \n",
    "    \n",
    "    \n",
    "    for i, line in enumerate(book):\n",
    "        #This starts reading^\n",
    "        for char in line:\n",
    "            if char in string.ascii_letters:\n",
    "                uppercase = char.upper()\n",
    "                letter_frequencies[uppercase] += 1\n",
    "                \n",
    "                \n",
    "             \n",
    "    \n",
    "        if i > 1000:\n",
    "            break         \n",
    "        if line.startswith('*** END OF THIS PROJECT'):\n",
    "            break\n",
    "            \n",
    "    print (letter_frequencies)"
   ]
  },
  {
   "cell_type": "code",
   "execution_count": null,
   "metadata": {
    "collapsed": true
   },
   "outputs": [],
   "source": []
  }
 ],
 "metadata": {
  "kernelspec": {
   "display_name": "Python 3",
   "language": "python",
   "name": "python3"
  },
  "language_info": {
   "codemirror_mode": {
    "name": "ipython",
    "version": 3
   },
   "file_extension": ".py",
   "mimetype": "text/x-python",
   "name": "python",
   "nbconvert_exporter": "python",
   "pygments_lexer": "ipython3",
   "version": "3.6.2"
  }
 },
 "nbformat": 4,
 "nbformat_minor": 2
}
